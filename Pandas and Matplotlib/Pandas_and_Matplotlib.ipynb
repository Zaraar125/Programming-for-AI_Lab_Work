{
  "cells": [
    {
      "cell_type": "markdown",
      "source": [],
      "metadata": {
        "id": "NaH2GHQAYd7f"
      }
    },
    {
      "cell_type": "code",
      "source": [
        "import pandas as pd\n",
        "import matplotlib.pyplot as plt\n",
        "import numpy as np"
      ],
      "metadata": {
        "id": "Js3kkwb2YeZY"
      },
      "execution_count": 346,
      "outputs": []
    },
    {
      "cell_type": "code",
      "source": [],
      "metadata": {
        "id": "i0rZrgmm6q4J"
      },
      "execution_count": 346,
      "outputs": []
    },
    {
      "cell_type": "code",
      "source": [
        "data=pd.read_excel(\"timetable.xlsx\")"
      ],
      "metadata": {
        "id": "HMCnF1vkYjwG"
      },
      "execution_count": 347,
      "outputs": []
    },
    {
      "cell_type": "code",
      "source": [
        "data.dropna(axis=1,how=\"all\",inplace=True)"
      ],
      "metadata": {
        "id": "pnn1R9G-ZWkZ"
      },
      "execution_count": 348,
      "outputs": []
    },
    {
      "cell_type": "code",
      "source": [
        "new_data=pd.DataFrame(columns=[\"Day\",\"Room\",\"Time\",\"Course\",\"Type\"])\n",
        "new_data.reset_index()"
      ],
      "metadata": {
        "id": "uai7h-k9ZZ1o",
        "outputId": "fd91f9ea-6517-498d-c92a-bf8d93f68017",
        "colab": {
          "base_uri": "https://localhost:8080/",
          "height": 49
        }
      },
      "execution_count": 349,
      "outputs": [
        {
          "output_type": "execute_result",
          "data": {
            "text/plain": [
              "Empty DataFrame\n",
              "Columns: [index, Day, Room, Time, Course, Type]\n",
              "Index: []"
            ],
            "text/html": [
              "\n",
              "  <div id=\"df-d0396e8f-89fb-4696-bd23-273a6af75dd5\">\n",
              "    <div class=\"colab-df-container\">\n",
              "      <div>\n",
              "<style scoped>\n",
              "    .dataframe tbody tr th:only-of-type {\n",
              "        vertical-align: middle;\n",
              "    }\n",
              "\n",
              "    .dataframe tbody tr th {\n",
              "        vertical-align: top;\n",
              "    }\n",
              "\n",
              "    .dataframe thead th {\n",
              "        text-align: right;\n",
              "    }\n",
              "</style>\n",
              "<table border=\"1\" class=\"dataframe\">\n",
              "  <thead>\n",
              "    <tr style=\"text-align: right;\">\n",
              "      <th></th>\n",
              "      <th>index</th>\n",
              "      <th>Day</th>\n",
              "      <th>Room</th>\n",
              "      <th>Time</th>\n",
              "      <th>Course</th>\n",
              "      <th>Type</th>\n",
              "    </tr>\n",
              "  </thead>\n",
              "  <tbody>\n",
              "  </tbody>\n",
              "</table>\n",
              "</div>\n",
              "      <button class=\"colab-df-convert\" onclick=\"convertToInteractive('df-d0396e8f-89fb-4696-bd23-273a6af75dd5')\"\n",
              "              title=\"Convert this dataframe to an interactive table.\"\n",
              "              style=\"display:none;\">\n",
              "        \n",
              "  <svg xmlns=\"http://www.w3.org/2000/svg\" height=\"24px\"viewBox=\"0 0 24 24\"\n",
              "       width=\"24px\">\n",
              "    <path d=\"M0 0h24v24H0V0z\" fill=\"none\"/>\n",
              "    <path d=\"M18.56 5.44l.94 2.06.94-2.06 2.06-.94-2.06-.94-.94-2.06-.94 2.06-2.06.94zm-11 1L8.5 8.5l.94-2.06 2.06-.94-2.06-.94L8.5 2.5l-.94 2.06-2.06.94zm10 10l.94 2.06.94-2.06 2.06-.94-2.06-.94-.94-2.06-.94 2.06-2.06.94z\"/><path d=\"M17.41 7.96l-1.37-1.37c-.4-.4-.92-.59-1.43-.59-.52 0-1.04.2-1.43.59L10.3 9.45l-7.72 7.72c-.78.78-.78 2.05 0 2.83L4 21.41c.39.39.9.59 1.41.59.51 0 1.02-.2 1.41-.59l7.78-7.78 2.81-2.81c.8-.78.8-2.07 0-2.86zM5.41 20L4 18.59l7.72-7.72 1.47 1.35L5.41 20z\"/>\n",
              "  </svg>\n",
              "      </button>\n",
              "      \n",
              "  <style>\n",
              "    .colab-df-container {\n",
              "      display:flex;\n",
              "      flex-wrap:wrap;\n",
              "      gap: 12px;\n",
              "    }\n",
              "\n",
              "    .colab-df-convert {\n",
              "      background-color: #E8F0FE;\n",
              "      border: none;\n",
              "      border-radius: 50%;\n",
              "      cursor: pointer;\n",
              "      display: none;\n",
              "      fill: #1967D2;\n",
              "      height: 32px;\n",
              "      padding: 0 0 0 0;\n",
              "      width: 32px;\n",
              "    }\n",
              "\n",
              "    .colab-df-convert:hover {\n",
              "      background-color: #E2EBFA;\n",
              "      box-shadow: 0px 1px 2px rgba(60, 64, 67, 0.3), 0px 1px 3px 1px rgba(60, 64, 67, 0.15);\n",
              "      fill: #174EA6;\n",
              "    }\n",
              "\n",
              "    [theme=dark] .colab-df-convert {\n",
              "      background-color: #3B4455;\n",
              "      fill: #D2E3FC;\n",
              "    }\n",
              "\n",
              "    [theme=dark] .colab-df-convert:hover {\n",
              "      background-color: #434B5C;\n",
              "      box-shadow: 0px 1px 3px 1px rgba(0, 0, 0, 0.15);\n",
              "      filter: drop-shadow(0px 1px 2px rgba(0, 0, 0, 0.3));\n",
              "      fill: #FFFFFF;\n",
              "    }\n",
              "  </style>\n",
              "\n",
              "      <script>\n",
              "        const buttonEl =\n",
              "          document.querySelector('#df-d0396e8f-89fb-4696-bd23-273a6af75dd5 button.colab-df-convert');\n",
              "        buttonEl.style.display =\n",
              "          google.colab.kernel.accessAllowed ? 'block' : 'none';\n",
              "\n",
              "        async function convertToInteractive(key) {\n",
              "          const element = document.querySelector('#df-d0396e8f-89fb-4696-bd23-273a6af75dd5');\n",
              "          const dataTable =\n",
              "            await google.colab.kernel.invokeFunction('convertToInteractive',\n",
              "                                                     [key], {});\n",
              "          if (!dataTable) return;\n",
              "\n",
              "          const docLinkHtml = 'Like what you see? Visit the ' +\n",
              "            '<a target=\"_blank\" href=https://colab.research.google.com/notebooks/data_table.ipynb>data table notebook</a>'\n",
              "            + ' to learn more about interactive tables.';\n",
              "          element.innerHTML = '';\n",
              "          dataTable['output_type'] = 'display_data';\n",
              "          await google.colab.output.renderOutput(dataTable, element);\n",
              "          const docLink = document.createElement('div');\n",
              "          docLink.innerHTML = docLinkHtml;\n",
              "          element.appendChild(docLink);\n",
              "        }\n",
              "      </script>\n",
              "    </div>\n",
              "  </div>\n",
              "  "
            ]
          },
          "metadata": {},
          "execution_count": 349
        }
      ]
    },
    {
      "cell_type": "code",
      "source": [
        "room_number=data[\"Room\"]\n",
        "data_class=data.iloc[:36]\n",
        "data_lab=data.iloc[36:]\n",
        "two_spec=data.iloc[6:8]"
      ],
      "metadata": {
        "id": "34mctf07aBuF"
      },
      "execution_count": 350,
      "outputs": []
    },
    {
      "cell_type": "code",
      "source": [],
      "metadata": {
        "id": "8jmeFHlYa2s7"
      },
      "execution_count": 338,
      "outputs": []
    },
    {
      "cell_type": "code",
      "source": [
        "apl=data_class.columns\n",
        "apl=apl.drop([\"Room\",\"Unnamed: 8\"])\n",
        "list1=[]\n",
        "list2=[]\n",
        "list3=[]\n",
        "list4=[]\n",
        "list5=[]\n",
        "for a in apl:\n",
        "  count=0\n",
        "  x=data_class[a]\n",
        "  for i in range(0,36):\n",
        "    list1.append(a)\n",
        "    list2.append(room_number[count])\n",
        "    list3.append(\"Theory\")\n",
        "    list4.append(\"Monday\")\n",
        "    list5.append(x[count])\n",
        "    count=count+1"
      ],
      "metadata": {
        "id": "WdOgVo6QbYus"
      },
      "execution_count": 351,
      "outputs": []
    },
    {
      "cell_type": "code",
      "source": [],
      "metadata": {
        "id": "GUfVZf8ccowc"
      },
      "execution_count": 301,
      "outputs": []
    },
    {
      "cell_type": "code",
      "source": [
        "data_lab=data_lab.reset_index(drop=True)\n",
        "room_number=data_lab[\"Room\"]\n",
        "apl1=data_lab.columns\n",
        "apl1=apl1.drop([\"Room\",\"Unnamed: 8\"])\n",
        "apl1\n",
        "for a in apl1:\n",
        "  count=0\n",
        "  x=data_lab[a]\n",
        "  print(a)\n",
        "  for i in range(0,16):\n",
        "    list1.append(a)\n",
        "    list2.append(room_number[count])\n",
        "    list3.append(\"Lab\")\n",
        "    list4.append(\"Monday\")\n",
        "    list5.append(x[count])\n",
        "    count=count+1\n"
      ],
      "metadata": {
        "id": "KHPJNx13eJPV",
        "outputId": "caf8480a-50ea-4d91-9841-ab575a05fa64",
        "colab": {
          "base_uri": "https://localhost:8080/"
        }
      },
      "execution_count": 352,
      "outputs": [
        {
          "output_type": "stream",
          "name": "stdout",
          "text": [
            "08:30-09:50\n",
            "10:00-11:20\n",
            "11:30-12:50\n",
            "01:00-02:20\n",
            "02:30-03:50\n",
            "03:55-05:15\n",
            "05:20-06:40 \n",
            "06:45-08:05\n"
          ]
        }
      ]
    },
    {
      "cell_type": "code",
      "source": [
        "new_data[\"Time\"]=list1   \n",
        "new_data[\"Course\"]=list5\n",
        "new_data[\"Room\"]=list2\n",
        "new_data[\"Type\"]=list3\n",
        "new_data[\"Day\"]=list4    \n"
      ],
      "metadata": {
        "id": "s3kFPJCoffJc"
      },
      "execution_count": 353,
      "outputs": []
    },
    {
      "cell_type": "code",
      "source": [
        "new_data=new_data.dropna(how=\"any\")\n",
        "new_data=new_data.drop(384)"
      ],
      "metadata": {
        "id": "L7Amhkqs8cgV"
      },
      "execution_count": 354,
      "outputs": []
    },
    {
      "cell_type": "code",
      "source": [],
      "metadata": {
        "id": "k9U4-xQZ8zn1"
      },
      "execution_count": 357,
      "outputs": []
    },
    {
      "cell_type": "code",
      "source": [
        "new_data"
      ],
      "metadata": {
        "id": "G8pZl8iP84tW",
        "outputId": "bd5f2044-7c37-41b5-902f-287322a44f6e",
        "colab": {
          "base_uri": "https://localhost:8080/",
          "height": 423
        }
      },
      "execution_count": 358,
      "outputs": [
        {
          "output_type": "execute_result",
          "data": {
            "text/plain": [
              "        Day        Room         Time                      Course    Type\n",
              "0    Monday       C-301  08:30-09:50                   PF (CS-A)  Theory\n",
              "1    Monday       C-302  08:30-09:50                   AP (CS-B)  Theory\n",
              "2    Monday       C-303  08:30-09:50     Islamic Studies (CS-C)   Theory\n",
              "3    Monday       C-304  08:30-09:50                   PF (CS-D)  Theory\n",
              "4    Monday       C-305  08:30-09:50             Calculus (CS-E)  Theory\n",
              "..      ...         ...          ...                         ...     ...\n",
              "362  Monday  A-Mehran 1  02:30-03:50  S/w Const & Dev Lab (SE-S)     Lab\n",
              "363  Monday  A-Mehran 2  02:30-03:50        Eng Comp Lab (AI-A1)     Lab\n",
              "365  Monday    A-CALL-1  02:30-03:50        Eng Comp Lab (AI-A2)     Lab\n",
              "366  Monday    A-CALL-2  02:30-03:50        Eng Comp Lab (AI-B1)     Lab\n",
              "367  Monday    A-CALL-3  02:30-03:50        Eng Comp Lab (AI-B2)     Lab\n",
              "\n",
              "[233 rows x 5 columns]"
            ],
            "text/html": [
              "\n",
              "  <div id=\"df-0607b115-a1e6-4b87-8830-c5d1920dd93c\">\n",
              "    <div class=\"colab-df-container\">\n",
              "      <div>\n",
              "<style scoped>\n",
              "    .dataframe tbody tr th:only-of-type {\n",
              "        vertical-align: middle;\n",
              "    }\n",
              "\n",
              "    .dataframe tbody tr th {\n",
              "        vertical-align: top;\n",
              "    }\n",
              "\n",
              "    .dataframe thead th {\n",
              "        text-align: right;\n",
              "    }\n",
              "</style>\n",
              "<table border=\"1\" class=\"dataframe\">\n",
              "  <thead>\n",
              "    <tr style=\"text-align: right;\">\n",
              "      <th></th>\n",
              "      <th>Day</th>\n",
              "      <th>Room</th>\n",
              "      <th>Time</th>\n",
              "      <th>Course</th>\n",
              "      <th>Type</th>\n",
              "    </tr>\n",
              "  </thead>\n",
              "  <tbody>\n",
              "    <tr>\n",
              "      <th>0</th>\n",
              "      <td>Monday</td>\n",
              "      <td>C-301</td>\n",
              "      <td>08:30-09:50</td>\n",
              "      <td>PF (CS-A)</td>\n",
              "      <td>Theory</td>\n",
              "    </tr>\n",
              "    <tr>\n",
              "      <th>1</th>\n",
              "      <td>Monday</td>\n",
              "      <td>C-302</td>\n",
              "      <td>08:30-09:50</td>\n",
              "      <td>AP (CS-B)</td>\n",
              "      <td>Theory</td>\n",
              "    </tr>\n",
              "    <tr>\n",
              "      <th>2</th>\n",
              "      <td>Monday</td>\n",
              "      <td>C-303</td>\n",
              "      <td>08:30-09:50</td>\n",
              "      <td>Islamic Studies (CS-C)</td>\n",
              "      <td>Theory</td>\n",
              "    </tr>\n",
              "    <tr>\n",
              "      <th>3</th>\n",
              "      <td>Monday</td>\n",
              "      <td>C-304</td>\n",
              "      <td>08:30-09:50</td>\n",
              "      <td>PF (CS-D)</td>\n",
              "      <td>Theory</td>\n",
              "    </tr>\n",
              "    <tr>\n",
              "      <th>4</th>\n",
              "      <td>Monday</td>\n",
              "      <td>C-305</td>\n",
              "      <td>08:30-09:50</td>\n",
              "      <td>Calculus (CS-E)</td>\n",
              "      <td>Theory</td>\n",
              "    </tr>\n",
              "    <tr>\n",
              "      <th>...</th>\n",
              "      <td>...</td>\n",
              "      <td>...</td>\n",
              "      <td>...</td>\n",
              "      <td>...</td>\n",
              "      <td>...</td>\n",
              "    </tr>\n",
              "    <tr>\n",
              "      <th>362</th>\n",
              "      <td>Monday</td>\n",
              "      <td>A-Mehran 1</td>\n",
              "      <td>02:30-03:50</td>\n",
              "      <td>S/w Const &amp; Dev Lab (SE-S)</td>\n",
              "      <td>Lab</td>\n",
              "    </tr>\n",
              "    <tr>\n",
              "      <th>363</th>\n",
              "      <td>Monday</td>\n",
              "      <td>A-Mehran 2</td>\n",
              "      <td>02:30-03:50</td>\n",
              "      <td>Eng Comp Lab (AI-A1)</td>\n",
              "      <td>Lab</td>\n",
              "    </tr>\n",
              "    <tr>\n",
              "      <th>365</th>\n",
              "      <td>Monday</td>\n",
              "      <td>A-CALL-1</td>\n",
              "      <td>02:30-03:50</td>\n",
              "      <td>Eng Comp Lab (AI-A2)</td>\n",
              "      <td>Lab</td>\n",
              "    </tr>\n",
              "    <tr>\n",
              "      <th>366</th>\n",
              "      <td>Monday</td>\n",
              "      <td>A-CALL-2</td>\n",
              "      <td>02:30-03:50</td>\n",
              "      <td>Eng Comp Lab (AI-B1)</td>\n",
              "      <td>Lab</td>\n",
              "    </tr>\n",
              "    <tr>\n",
              "      <th>367</th>\n",
              "      <td>Monday</td>\n",
              "      <td>A-CALL-3</td>\n",
              "      <td>02:30-03:50</td>\n",
              "      <td>Eng Comp Lab (AI-B2)</td>\n",
              "      <td>Lab</td>\n",
              "    </tr>\n",
              "  </tbody>\n",
              "</table>\n",
              "<p>233 rows × 5 columns</p>\n",
              "</div>\n",
              "      <button class=\"colab-df-convert\" onclick=\"convertToInteractive('df-0607b115-a1e6-4b87-8830-c5d1920dd93c')\"\n",
              "              title=\"Convert this dataframe to an interactive table.\"\n",
              "              style=\"display:none;\">\n",
              "        \n",
              "  <svg xmlns=\"http://www.w3.org/2000/svg\" height=\"24px\"viewBox=\"0 0 24 24\"\n",
              "       width=\"24px\">\n",
              "    <path d=\"M0 0h24v24H0V0z\" fill=\"none\"/>\n",
              "    <path d=\"M18.56 5.44l.94 2.06.94-2.06 2.06-.94-2.06-.94-.94-2.06-.94 2.06-2.06.94zm-11 1L8.5 8.5l.94-2.06 2.06-.94-2.06-.94L8.5 2.5l-.94 2.06-2.06.94zm10 10l.94 2.06.94-2.06 2.06-.94-2.06-.94-.94-2.06-.94 2.06-2.06.94z\"/><path d=\"M17.41 7.96l-1.37-1.37c-.4-.4-.92-.59-1.43-.59-.52 0-1.04.2-1.43.59L10.3 9.45l-7.72 7.72c-.78.78-.78 2.05 0 2.83L4 21.41c.39.39.9.59 1.41.59.51 0 1.02-.2 1.41-.59l7.78-7.78 2.81-2.81c.8-.78.8-2.07 0-2.86zM5.41 20L4 18.59l7.72-7.72 1.47 1.35L5.41 20z\"/>\n",
              "  </svg>\n",
              "      </button>\n",
              "      \n",
              "  <style>\n",
              "    .colab-df-container {\n",
              "      display:flex;\n",
              "      flex-wrap:wrap;\n",
              "      gap: 12px;\n",
              "    }\n",
              "\n",
              "    .colab-df-convert {\n",
              "      background-color: #E8F0FE;\n",
              "      border: none;\n",
              "      border-radius: 50%;\n",
              "      cursor: pointer;\n",
              "      display: none;\n",
              "      fill: #1967D2;\n",
              "      height: 32px;\n",
              "      padding: 0 0 0 0;\n",
              "      width: 32px;\n",
              "    }\n",
              "\n",
              "    .colab-df-convert:hover {\n",
              "      background-color: #E2EBFA;\n",
              "      box-shadow: 0px 1px 2px rgba(60, 64, 67, 0.3), 0px 1px 3px 1px rgba(60, 64, 67, 0.15);\n",
              "      fill: #174EA6;\n",
              "    }\n",
              "\n",
              "    [theme=dark] .colab-df-convert {\n",
              "      background-color: #3B4455;\n",
              "      fill: #D2E3FC;\n",
              "    }\n",
              "\n",
              "    [theme=dark] .colab-df-convert:hover {\n",
              "      background-color: #434B5C;\n",
              "      box-shadow: 0px 1px 3px 1px rgba(0, 0, 0, 0.15);\n",
              "      filter: drop-shadow(0px 1px 2px rgba(0, 0, 0, 0.3));\n",
              "      fill: #FFFFFF;\n",
              "    }\n",
              "  </style>\n",
              "\n",
              "      <script>\n",
              "        const buttonEl =\n",
              "          document.querySelector('#df-0607b115-a1e6-4b87-8830-c5d1920dd93c button.colab-df-convert');\n",
              "        buttonEl.style.display =\n",
              "          google.colab.kernel.accessAllowed ? 'block' : 'none';\n",
              "\n",
              "        async function convertToInteractive(key) {\n",
              "          const element = document.querySelector('#df-0607b115-a1e6-4b87-8830-c5d1920dd93c');\n",
              "          const dataTable =\n",
              "            await google.colab.kernel.invokeFunction('convertToInteractive',\n",
              "                                                     [key], {});\n",
              "          if (!dataTable) return;\n",
              "\n",
              "          const docLinkHtml = 'Like what you see? Visit the ' +\n",
              "            '<a target=\"_blank\" href=https://colab.research.google.com/notebooks/data_table.ipynb>data table notebook</a>'\n",
              "            + ' to learn more about interactive tables.';\n",
              "          element.innerHTML = '';\n",
              "          dataTable['output_type'] = 'display_data';\n",
              "          await google.colab.output.renderOutput(dataTable, element);\n",
              "          const docLink = document.createElement('div');\n",
              "          docLink.innerHTML = docLinkHtml;\n",
              "          element.appendChild(docLink);\n",
              "        }\n",
              "      </script>\n",
              "    </div>\n",
              "  </div>\n",
              "  "
            ]
          },
          "metadata": {},
          "execution_count": 358
        }
      ]
    },
    {
      "cell_type": "code",
      "source": [],
      "metadata": {
        "id": "Xor3M5OM9SQm"
      },
      "execution_count": null,
      "outputs": []
    }
  ],
  "metadata": {
    "colab": {
      "collapsed_sections": [],
      "name": "Welcome To Colaboratory",
      "provenance": []
    },
    "kernelspec": {
      "display_name": "Python 3",
      "name": "python3"
    }
  },
  "nbformat": 4,
  "nbformat_minor": 0
}